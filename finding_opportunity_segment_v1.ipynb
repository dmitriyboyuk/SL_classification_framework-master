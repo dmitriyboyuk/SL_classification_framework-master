{
 "cells": [
  {
   "cell_type": "markdown",
   "metadata": {},
   "source": [
    "# `Supervised Learning Classification Framework`\n",
    "\n",
    "# `e.g. Finding high opportunity customer segment using census data`  "
   ]
  },
  {
   "cell_type": "markdown",
   "metadata": {},
   "source": [
    "----\n",
    "# 0. Background \n",
    "\n",
    "In this project, you will employ several supervised algorithms of your choice to accurately model individuals' income using data collected from the 1994 U.S. Census. \n",
    "\n",
    "You will then choose the best candidate algorithm from preliminary results and further optimize this algorithm to best model the data. \n",
    "\n",
    "Your goal with this implementation is to construct a model that accurately predicts whether an individual makes more than $50,000.\n",
    "\n",
    "This sort of task can arise in a non-profit setting, where organizations survive on donations.  Understanding an individual's income can help a non-profit better understand how large of a donation to request, or whether or not they should reach out to begin with.  While it can be difficult to determine an individual's general income bracket directly from public sources, we can (as we will see) infer this value from other publically available features. \n",
    "\n",
    "The dataset for this project originates from the [UCI Machine Learning Repository](https://archive.ics.uci.edu/ml/datasets/Census+Income). The datset was donated by Ron Kohavi and Barry Becker, after being published in the article _\"Scaling Up the Accuracy of Naive-Bayes Classifiers: A Decision-Tree Hybrid\"_. You can find the article by Ron Kohavi [online](https://www.aaai.org/Papers/KDD/1996/KDD96-033.pdf). "
   ]
  },
  {
   "cell_type": "markdown",
   "metadata": {},
   "source": [
    "----\n",
    "# 1. Problem Set-up"
   ]
  },
  {
   "cell_type": "markdown",
   "metadata": {},
   "source": [
    "#### 1.1 Import essential libraries  \n"
   ]
  },
  {
   "cell_type": "code",
   "execution_count": 305,
   "metadata": {},
   "outputs": [],
   "source": [
    "import numpy as np\n",
    "import pandas as pd\n",
    "from time import time\n",
    "import warnings \n",
    "warnings.filterwarnings(\"ignore\", category=FutureWarning)\n",
    "warnings.filterwarnings(\"ignore\", category=UserWarning)\n",
    "\n",
    "import sklearn \n",
    "\n",
    "import matplotlib.pyplot as pl \n",
    "import matplotlib.patches as mpatches\n",
    "\n",
    "%matplotlib inline\n",
    "\n",
    "# Enable display() for pandas DataFrames\n",
    "from IPython.display import display "
   ]
  },
  {
   "cell_type": "markdown",
   "metadata": {},
   "source": [
    "#### 1.2 Import Data "
   ]
  },
  {
   "cell_type": "code",
   "execution_count": 272,
   "metadata": {},
   "outputs": [
    {
     "data": {
      "text/html": [
       "<div>\n",
       "<style scoped>\n",
       "    .dataframe tbody tr th:only-of-type {\n",
       "        vertical-align: middle;\n",
       "    }\n",
       "\n",
       "    .dataframe tbody tr th {\n",
       "        vertical-align: top;\n",
       "    }\n",
       "\n",
       "    .dataframe thead th {\n",
       "        text-align: right;\n",
       "    }\n",
       "</style>\n",
       "<table border=\"1\" class=\"dataframe\">\n",
       "  <thead>\n",
       "    <tr style=\"text-align: right;\">\n",
       "      <th></th>\n",
       "      <th>Unnamed: 0</th>\n",
       "      <th>age</th>\n",
       "      <th>workclass</th>\n",
       "      <th>education_level</th>\n",
       "      <th>education-num</th>\n",
       "      <th>marital-status</th>\n",
       "      <th>occupation</th>\n",
       "      <th>relationship</th>\n",
       "      <th>race</th>\n",
       "      <th>sex</th>\n",
       "      <th>capital-gain</th>\n",
       "      <th>capital-loss</th>\n",
       "      <th>hours-per-week</th>\n",
       "      <th>native-country</th>\n",
       "      <th>income</th>\n",
       "    </tr>\n",
       "  </thead>\n",
       "  <tbody>\n",
       "    <tr>\n",
       "      <th>0</th>\n",
       "      <td>0</td>\n",
       "      <td>39</td>\n",
       "      <td>State-gov</td>\n",
       "      <td>Bachelors</td>\n",
       "      <td>13.0</td>\n",
       "      <td>Never-married</td>\n",
       "      <td>Adm-clerical</td>\n",
       "      <td>Not-in-family</td>\n",
       "      <td>White</td>\n",
       "      <td>Male</td>\n",
       "      <td>2174.0</td>\n",
       "      <td>0.0</td>\n",
       "      <td>40.0</td>\n",
       "      <td>United-States</td>\n",
       "      <td>36584</td>\n",
       "    </tr>\n",
       "    <tr>\n",
       "      <th>1</th>\n",
       "      <td>1</td>\n",
       "      <td>50</td>\n",
       "      <td>Self-emp-not-inc</td>\n",
       "      <td>Bachelors</td>\n",
       "      <td>13.0</td>\n",
       "      <td>Married-civ-spouse</td>\n",
       "      <td>Exec-managerial</td>\n",
       "      <td>Husband</td>\n",
       "      <td>White</td>\n",
       "      <td>Male</td>\n",
       "      <td>0.0</td>\n",
       "      <td>0.0</td>\n",
       "      <td>13.0</td>\n",
       "      <td>United-States</td>\n",
       "      <td>42718</td>\n",
       "    </tr>\n",
       "    <tr>\n",
       "      <th>2</th>\n",
       "      <td>2</td>\n",
       "      <td>38</td>\n",
       "      <td>Private</td>\n",
       "      <td>HS-grad</td>\n",
       "      <td>9.0</td>\n",
       "      <td>Divorced</td>\n",
       "      <td>Handlers-cleaners</td>\n",
       "      <td>Not-in-family</td>\n",
       "      <td>White</td>\n",
       "      <td>Male</td>\n",
       "      <td>0.0</td>\n",
       "      <td>0.0</td>\n",
       "      <td>40.0</td>\n",
       "      <td>United-States</td>\n",
       "      <td>36709</td>\n",
       "    </tr>\n",
       "    <tr>\n",
       "      <th>3</th>\n",
       "      <td>3</td>\n",
       "      <td>53</td>\n",
       "      <td>Private</td>\n",
       "      <td>11th</td>\n",
       "      <td>7.0</td>\n",
       "      <td>Married-civ-spouse</td>\n",
       "      <td>Handlers-cleaners</td>\n",
       "      <td>Husband</td>\n",
       "      <td>Black</td>\n",
       "      <td>Male</td>\n",
       "      <td>0.0</td>\n",
       "      <td>0.0</td>\n",
       "      <td>40.0</td>\n",
       "      <td>United-States</td>\n",
       "      <td>31099</td>\n",
       "    </tr>\n",
       "    <tr>\n",
       "      <th>4</th>\n",
       "      <td>4</td>\n",
       "      <td>28</td>\n",
       "      <td>Private</td>\n",
       "      <td>Bachelors</td>\n",
       "      <td>13.0</td>\n",
       "      <td>Married-civ-spouse</td>\n",
       "      <td>Prof-specialty</td>\n",
       "      <td>Wife</td>\n",
       "      <td>Black</td>\n",
       "      <td>Female</td>\n",
       "      <td>0.0</td>\n",
       "      <td>0.0</td>\n",
       "      <td>40.0</td>\n",
       "      <td>Cuba</td>\n",
       "      <td>26754</td>\n",
       "    </tr>\n",
       "    <tr>\n",
       "      <th>5</th>\n",
       "      <td>5</td>\n",
       "      <td>37</td>\n",
       "      <td>Private</td>\n",
       "      <td>Masters</td>\n",
       "      <td>14.0</td>\n",
       "      <td>Married-civ-spouse</td>\n",
       "      <td>Exec-managerial</td>\n",
       "      <td>Wife</td>\n",
       "      <td>White</td>\n",
       "      <td>Female</td>\n",
       "      <td>0.0</td>\n",
       "      <td>0.0</td>\n",
       "      <td>40.0</td>\n",
       "      <td>United-States</td>\n",
       "      <td>27872</td>\n",
       "    </tr>\n",
       "    <tr>\n",
       "      <th>6</th>\n",
       "      <td>6</td>\n",
       "      <td>49</td>\n",
       "      <td>Private</td>\n",
       "      <td>9th</td>\n",
       "      <td>5.0</td>\n",
       "      <td>Married-spouse-absent</td>\n",
       "      <td>Other-service</td>\n",
       "      <td>Not-in-family</td>\n",
       "      <td>Black</td>\n",
       "      <td>Female</td>\n",
       "      <td>0.0</td>\n",
       "      <td>0.0</td>\n",
       "      <td>16.0</td>\n",
       "      <td>Jamaica</td>\n",
       "      <td>42740</td>\n",
       "    </tr>\n",
       "    <tr>\n",
       "      <th>7</th>\n",
       "      <td>7</td>\n",
       "      <td>52</td>\n",
       "      <td>Self-emp-not-inc</td>\n",
       "      <td>HS-grad</td>\n",
       "      <td>9.0</td>\n",
       "      <td>Married-civ-spouse</td>\n",
       "      <td>Exec-managerial</td>\n",
       "      <td>Husband</td>\n",
       "      <td>White</td>\n",
       "      <td>Male</td>\n",
       "      <td>0.0</td>\n",
       "      <td>0.0</td>\n",
       "      <td>45.0</td>\n",
       "      <td>United-States</td>\n",
       "      <td>87888</td>\n",
       "    </tr>\n",
       "    <tr>\n",
       "      <th>8</th>\n",
       "      <td>8</td>\n",
       "      <td>31</td>\n",
       "      <td>Private</td>\n",
       "      <td>Masters</td>\n",
       "      <td>14.0</td>\n",
       "      <td>Never-married</td>\n",
       "      <td>Prof-specialty</td>\n",
       "      <td>Not-in-family</td>\n",
       "      <td>White</td>\n",
       "      <td>Female</td>\n",
       "      <td>14084.0</td>\n",
       "      <td>0.0</td>\n",
       "      <td>50.0</td>\n",
       "      <td>United-States</td>\n",
       "      <td>58273</td>\n",
       "    </tr>\n",
       "    <tr>\n",
       "      <th>9</th>\n",
       "      <td>9</td>\n",
       "      <td>42</td>\n",
       "      <td>Private</td>\n",
       "      <td>Bachelors</td>\n",
       "      <td>13.0</td>\n",
       "      <td>Married-civ-spouse</td>\n",
       "      <td>Exec-managerial</td>\n",
       "      <td>Husband</td>\n",
       "      <td>White</td>\n",
       "      <td>Male</td>\n",
       "      <td>5178.0</td>\n",
       "      <td>0.0</td>\n",
       "      <td>40.0</td>\n",
       "      <td>United-States</td>\n",
       "      <td>206879</td>\n",
       "    </tr>\n",
       "  </tbody>\n",
       "</table>\n",
       "</div>"
      ],
      "text/plain": [
       "   Unnamed: 0  age          workclass education_level  education-num  \\\n",
       "0           0   39          State-gov       Bachelors           13.0   \n",
       "1           1   50   Self-emp-not-inc       Bachelors           13.0   \n",
       "2           2   38            Private         HS-grad            9.0   \n",
       "3           3   53            Private            11th            7.0   \n",
       "4           4   28            Private       Bachelors           13.0   \n",
       "5           5   37            Private         Masters           14.0   \n",
       "6           6   49            Private             9th            5.0   \n",
       "7           7   52   Self-emp-not-inc         HS-grad            9.0   \n",
       "8           8   31            Private         Masters           14.0   \n",
       "9           9   42            Private       Bachelors           13.0   \n",
       "\n",
       "           marital-status          occupation    relationship    race  \\\n",
       "0           Never-married        Adm-clerical   Not-in-family   White   \n",
       "1      Married-civ-spouse     Exec-managerial         Husband   White   \n",
       "2                Divorced   Handlers-cleaners   Not-in-family   White   \n",
       "3      Married-civ-spouse   Handlers-cleaners         Husband   Black   \n",
       "4      Married-civ-spouse      Prof-specialty            Wife   Black   \n",
       "5      Married-civ-spouse     Exec-managerial            Wife   White   \n",
       "6   Married-spouse-absent       Other-service   Not-in-family   Black   \n",
       "7      Married-civ-spouse     Exec-managerial         Husband   White   \n",
       "8           Never-married      Prof-specialty   Not-in-family   White   \n",
       "9      Married-civ-spouse     Exec-managerial         Husband   White   \n",
       "\n",
       "       sex  capital-gain  capital-loss  hours-per-week  native-country  income  \n",
       "0     Male        2174.0           0.0            40.0   United-States   36584  \n",
       "1     Male           0.0           0.0            13.0   United-States   42718  \n",
       "2     Male           0.0           0.0            40.0   United-States   36709  \n",
       "3     Male           0.0           0.0            40.0   United-States   31099  \n",
       "4   Female           0.0           0.0            40.0            Cuba   26754  \n",
       "5   Female           0.0           0.0            40.0   United-States   27872  \n",
       "6   Female           0.0           0.0            16.0         Jamaica   42740  \n",
       "7     Male           0.0           0.0            45.0   United-States   87888  \n",
       "8   Female       14084.0           0.0            50.0   United-States   58273  \n",
       "9     Male        5178.0           0.0            40.0   United-States  206879  "
      ]
     },
     "metadata": {},
     "output_type": "display_data"
    }
   ],
   "source": [
    "data = pd.read_csv('census_income.csv')\n",
    "display(data.head(n=10))"
   ]
  },
  {
   "cell_type": "markdown",
   "metadata": {},
   "source": [
    "#### 1.3 Create segment label"
   ]
  },
  {
   "cell_type": "code",
   "execution_count": 273,
   "metadata": {},
   "outputs": [
    {
     "data": {
      "text/html": [
       "<div>\n",
       "<style scoped>\n",
       "    .dataframe tbody tr th:only-of-type {\n",
       "        vertical-align: middle;\n",
       "    }\n",
       "\n",
       "    .dataframe tbody tr th {\n",
       "        vertical-align: top;\n",
       "    }\n",
       "\n",
       "    .dataframe thead th {\n",
       "        text-align: right;\n",
       "    }\n",
       "</style>\n",
       "<table border=\"1\" class=\"dataframe\">\n",
       "  <thead>\n",
       "    <tr style=\"text-align: right;\">\n",
       "      <th></th>\n",
       "      <th>Unnamed: 0</th>\n",
       "      <th>age</th>\n",
       "      <th>workclass</th>\n",
       "      <th>education_level</th>\n",
       "      <th>education-num</th>\n",
       "      <th>marital-status</th>\n",
       "      <th>occupation</th>\n",
       "      <th>relationship</th>\n",
       "      <th>race</th>\n",
       "      <th>sex</th>\n",
       "      <th>capital-gain</th>\n",
       "      <th>capital-loss</th>\n",
       "      <th>hours-per-week</th>\n",
       "      <th>native-country</th>\n",
       "      <th>income</th>\n",
       "      <th>income_flag</th>\n",
       "    </tr>\n",
       "  </thead>\n",
       "  <tbody>\n",
       "    <tr>\n",
       "      <th>0</th>\n",
       "      <td>0</td>\n",
       "      <td>39</td>\n",
       "      <td>State-gov</td>\n",
       "      <td>Bachelors</td>\n",
       "      <td>13.0</td>\n",
       "      <td>Never-married</td>\n",
       "      <td>Adm-clerical</td>\n",
       "      <td>Not-in-family</td>\n",
       "      <td>White</td>\n",
       "      <td>Male</td>\n",
       "      <td>2174.0</td>\n",
       "      <td>0.0</td>\n",
       "      <td>40.0</td>\n",
       "      <td>United-States</td>\n",
       "      <td>36584</td>\n",
       "      <td>&lt;=80K</td>\n",
       "    </tr>\n",
       "    <tr>\n",
       "      <th>1</th>\n",
       "      <td>1</td>\n",
       "      <td>50</td>\n",
       "      <td>Self-emp-not-inc</td>\n",
       "      <td>Bachelors</td>\n",
       "      <td>13.0</td>\n",
       "      <td>Married-civ-spouse</td>\n",
       "      <td>Exec-managerial</td>\n",
       "      <td>Husband</td>\n",
       "      <td>White</td>\n",
       "      <td>Male</td>\n",
       "      <td>0.0</td>\n",
       "      <td>0.0</td>\n",
       "      <td>13.0</td>\n",
       "      <td>United-States</td>\n",
       "      <td>42718</td>\n",
       "      <td>&lt;=80K</td>\n",
       "    </tr>\n",
       "    <tr>\n",
       "      <th>2</th>\n",
       "      <td>2</td>\n",
       "      <td>38</td>\n",
       "      <td>Private</td>\n",
       "      <td>HS-grad</td>\n",
       "      <td>9.0</td>\n",
       "      <td>Divorced</td>\n",
       "      <td>Handlers-cleaners</td>\n",
       "      <td>Not-in-family</td>\n",
       "      <td>White</td>\n",
       "      <td>Male</td>\n",
       "      <td>0.0</td>\n",
       "      <td>0.0</td>\n",
       "      <td>40.0</td>\n",
       "      <td>United-States</td>\n",
       "      <td>36709</td>\n",
       "      <td>&lt;=80K</td>\n",
       "    </tr>\n",
       "    <tr>\n",
       "      <th>3</th>\n",
       "      <td>3</td>\n",
       "      <td>53</td>\n",
       "      <td>Private</td>\n",
       "      <td>11th</td>\n",
       "      <td>7.0</td>\n",
       "      <td>Married-civ-spouse</td>\n",
       "      <td>Handlers-cleaners</td>\n",
       "      <td>Husband</td>\n",
       "      <td>Black</td>\n",
       "      <td>Male</td>\n",
       "      <td>0.0</td>\n",
       "      <td>0.0</td>\n",
       "      <td>40.0</td>\n",
       "      <td>United-States</td>\n",
       "      <td>31099</td>\n",
       "      <td>&lt;=80K</td>\n",
       "    </tr>\n",
       "    <tr>\n",
       "      <th>4</th>\n",
       "      <td>4</td>\n",
       "      <td>28</td>\n",
       "      <td>Private</td>\n",
       "      <td>Bachelors</td>\n",
       "      <td>13.0</td>\n",
       "      <td>Married-civ-spouse</td>\n",
       "      <td>Prof-specialty</td>\n",
       "      <td>Wife</td>\n",
       "      <td>Black</td>\n",
       "      <td>Female</td>\n",
       "      <td>0.0</td>\n",
       "      <td>0.0</td>\n",
       "      <td>40.0</td>\n",
       "      <td>Cuba</td>\n",
       "      <td>26754</td>\n",
       "      <td>&lt;=80K</td>\n",
       "    </tr>\n",
       "    <tr>\n",
       "      <th>5</th>\n",
       "      <td>5</td>\n",
       "      <td>37</td>\n",
       "      <td>Private</td>\n",
       "      <td>Masters</td>\n",
       "      <td>14.0</td>\n",
       "      <td>Married-civ-spouse</td>\n",
       "      <td>Exec-managerial</td>\n",
       "      <td>Wife</td>\n",
       "      <td>White</td>\n",
       "      <td>Female</td>\n",
       "      <td>0.0</td>\n",
       "      <td>0.0</td>\n",
       "      <td>40.0</td>\n",
       "      <td>United-States</td>\n",
       "      <td>27872</td>\n",
       "      <td>&lt;=80K</td>\n",
       "    </tr>\n",
       "    <tr>\n",
       "      <th>6</th>\n",
       "      <td>6</td>\n",
       "      <td>49</td>\n",
       "      <td>Private</td>\n",
       "      <td>9th</td>\n",
       "      <td>5.0</td>\n",
       "      <td>Married-spouse-absent</td>\n",
       "      <td>Other-service</td>\n",
       "      <td>Not-in-family</td>\n",
       "      <td>Black</td>\n",
       "      <td>Female</td>\n",
       "      <td>0.0</td>\n",
       "      <td>0.0</td>\n",
       "      <td>16.0</td>\n",
       "      <td>Jamaica</td>\n",
       "      <td>42740</td>\n",
       "      <td>&lt;=80K</td>\n",
       "    </tr>\n",
       "    <tr>\n",
       "      <th>7</th>\n",
       "      <td>7</td>\n",
       "      <td>52</td>\n",
       "      <td>Self-emp-not-inc</td>\n",
       "      <td>HS-grad</td>\n",
       "      <td>9.0</td>\n",
       "      <td>Married-civ-spouse</td>\n",
       "      <td>Exec-managerial</td>\n",
       "      <td>Husband</td>\n",
       "      <td>White</td>\n",
       "      <td>Male</td>\n",
       "      <td>0.0</td>\n",
       "      <td>0.0</td>\n",
       "      <td>45.0</td>\n",
       "      <td>United-States</td>\n",
       "      <td>87888</td>\n",
       "      <td>&gt;80K</td>\n",
       "    </tr>\n",
       "    <tr>\n",
       "      <th>8</th>\n",
       "      <td>8</td>\n",
       "      <td>31</td>\n",
       "      <td>Private</td>\n",
       "      <td>Masters</td>\n",
       "      <td>14.0</td>\n",
       "      <td>Never-married</td>\n",
       "      <td>Prof-specialty</td>\n",
       "      <td>Not-in-family</td>\n",
       "      <td>White</td>\n",
       "      <td>Female</td>\n",
       "      <td>14084.0</td>\n",
       "      <td>0.0</td>\n",
       "      <td>50.0</td>\n",
       "      <td>United-States</td>\n",
       "      <td>58273</td>\n",
       "      <td>&lt;=80K</td>\n",
       "    </tr>\n",
       "    <tr>\n",
       "      <th>9</th>\n",
       "      <td>9</td>\n",
       "      <td>42</td>\n",
       "      <td>Private</td>\n",
       "      <td>Bachelors</td>\n",
       "      <td>13.0</td>\n",
       "      <td>Married-civ-spouse</td>\n",
       "      <td>Exec-managerial</td>\n",
       "      <td>Husband</td>\n",
       "      <td>White</td>\n",
       "      <td>Male</td>\n",
       "      <td>5178.0</td>\n",
       "      <td>0.0</td>\n",
       "      <td>40.0</td>\n",
       "      <td>United-States</td>\n",
       "      <td>206879</td>\n",
       "      <td>&gt;80K</td>\n",
       "    </tr>\n",
       "  </tbody>\n",
       "</table>\n",
       "</div>"
      ],
      "text/plain": [
       "   Unnamed: 0  age          workclass education_level  education-num  \\\n",
       "0           0   39          State-gov       Bachelors           13.0   \n",
       "1           1   50   Self-emp-not-inc       Bachelors           13.0   \n",
       "2           2   38            Private         HS-grad            9.0   \n",
       "3           3   53            Private            11th            7.0   \n",
       "4           4   28            Private       Bachelors           13.0   \n",
       "5           5   37            Private         Masters           14.0   \n",
       "6           6   49            Private             9th            5.0   \n",
       "7           7   52   Self-emp-not-inc         HS-grad            9.0   \n",
       "8           8   31            Private         Masters           14.0   \n",
       "9           9   42            Private       Bachelors           13.0   \n",
       "\n",
       "           marital-status          occupation    relationship    race  \\\n",
       "0           Never-married        Adm-clerical   Not-in-family   White   \n",
       "1      Married-civ-spouse     Exec-managerial         Husband   White   \n",
       "2                Divorced   Handlers-cleaners   Not-in-family   White   \n",
       "3      Married-civ-spouse   Handlers-cleaners         Husband   Black   \n",
       "4      Married-civ-spouse      Prof-specialty            Wife   Black   \n",
       "5      Married-civ-spouse     Exec-managerial            Wife   White   \n",
       "6   Married-spouse-absent       Other-service   Not-in-family   Black   \n",
       "7      Married-civ-spouse     Exec-managerial         Husband   White   \n",
       "8           Never-married      Prof-specialty   Not-in-family   White   \n",
       "9      Married-civ-spouse     Exec-managerial         Husband   White   \n",
       "\n",
       "       sex  capital-gain  capital-loss  hours-per-week  native-country  \\\n",
       "0     Male        2174.0           0.0            40.0   United-States   \n",
       "1     Male           0.0           0.0            13.0   United-States   \n",
       "2     Male           0.0           0.0            40.0   United-States   \n",
       "3     Male           0.0           0.0            40.0   United-States   \n",
       "4   Female           0.0           0.0            40.0            Cuba   \n",
       "5   Female           0.0           0.0            40.0   United-States   \n",
       "6   Female           0.0           0.0            16.0         Jamaica   \n",
       "7     Male           0.0           0.0            45.0   United-States   \n",
       "8   Female       14084.0           0.0            50.0   United-States   \n",
       "9     Male        5178.0           0.0            40.0   United-States   \n",
       "\n",
       "   income income_flag  \n",
       "0   36584       <=80K  \n",
       "1   42718       <=80K  \n",
       "2   36709       <=80K  \n",
       "3   31099       <=80K  \n",
       "4   26754       <=80K  \n",
       "5   27872       <=80K  \n",
       "6   42740       <=80K  \n",
       "7   87888        >80K  \n",
       "8   58273       <=80K  \n",
       "9  206879        >80K  "
      ]
     },
     "metadata": {},
     "output_type": "display_data"
    }
   ],
   "source": [
    "income_flag = []\n",
    "\n",
    "for ii, income in enumerate(data['income']):\n",
    "    if income > 80000:\n",
    "        income_flag.append('>80K')\n",
    "    if income <=80000:\n",
    "         income_flag.append('<=80K')\n",
    "\n",
    "data['income_flag'] = income_flag\n",
    "\n",
    "display(data.head(n=10))"
   ]
  },
  {
   "cell_type": "code",
   "execution_count": 274,
   "metadata": {},
   "outputs": [
    {
     "name": "stdout",
     "output_type": "stream",
     "text": [
      "# of total number of individuals: 45222\n",
      "% of individuals in the affluent income class: 22%\n"
     ]
    }
   ],
   "source": [
    "# Total number of records\n",
    "n_records = data.shape[0]\n",
    "\n",
    "# Number of records per segment \n",
    "n_affluent = data.loc[data['income_flag']=='>80K'].shape[0]\n",
    "\n",
    "# Print the results\n",
    "print(\"# of total number of individuals: {}\".format(n_records))\n",
    "print(\"% of individuals in the affluent income class: {}%\".format(round(n_affluent/n_records * 100)))"
   ]
  },
  {
   "cell_type": "markdown",
   "metadata": {},
   "source": [
    "#### 1.5 Define features and label"
   ]
  },
  {
   "cell_type": "code",
   "execution_count": 275,
   "metadata": {},
   "outputs": [],
   "source": [
    "# Split the data into features and target label\n",
    "label_raw = data['income_flag']\n",
    "features_raw = data.drop(['income', 'income_flag', 'Unnamed: 0'], axis = 1)"
   ]
  },
  {
   "cell_type": "markdown",
   "metadata": {},
   "source": [
    "#### 1.4 Feature exploration "
   ]
  },
  {
   "cell_type": "code",
   "execution_count": 276,
   "metadata": {},
   "outputs": [
    {
     "name": "stdout",
     "output_type": "stream",
     "text": [
      "age\n",
      "17 - 90\n",
      "workclass\n",
      "[' State-gov' ' Self-emp-not-inc' ' Private' ' Federal-gov' ' Local-gov'\n",
      " ' Self-emp-inc' ' Without-pay']\n",
      "education_level\n",
      "[' Bachelors' ' HS-grad' ' 11th' ' Masters' ' 9th' ' Some-college'\n",
      " ' Assoc-acdm' ' 7th-8th' ' Doctorate' ' Assoc-voc' ' Prof-school'\n",
      " ' 5th-6th' ' 10th' ' Preschool' ' 12th' ' 1st-4th']\n",
      "education-num\n",
      "1.0 - 16.0\n",
      "marital-status\n",
      "[' Never-married' ' Married-civ-spouse' ' Divorced'\n",
      " ' Married-spouse-absent' ' Separated' ' Married-AF-spouse' ' Widowed']\n",
      "occupation\n",
      "[' Adm-clerical' ' Exec-managerial' ' Handlers-cleaners' ' Prof-specialty'\n",
      " ' Other-service' ' Sales' ' Transport-moving' ' Farming-fishing'\n",
      " ' Machine-op-inspct' ' Tech-support' ' Craft-repair' ' Protective-serv'\n",
      " ' Armed-Forces' ' Priv-house-serv']\n",
      "relationship\n",
      "[' Not-in-family' ' Husband' ' Wife' ' Own-child' ' Unmarried'\n",
      " ' Other-relative']\n",
      "race\n",
      "[' White' ' Black' ' Asian-Pac-Islander' ' Amer-Indian-Eskimo' ' Other']\n",
      "sex\n",
      "[' Male' ' Female']\n",
      "capital-gain\n",
      "0.0 - 99999.0\n",
      "capital-loss\n",
      "0.0 - 4356.0\n",
      "hours-per-week\n",
      "1.0 - 99.0\n",
      "native-country\n",
      "[' United-States' ' Cuba' ' Jamaica' ' India' ' Mexico' ' Puerto-Rico'\n",
      " ' Honduras' ' England' ' Canada' ' Germany' ' Iran' ' Philippines'\n",
      " ' Poland' ' Columbia' ' Cambodia' ' Thailand' ' Ecuador' ' Laos'\n",
      " ' Taiwan' ' Haiti' ' Portugal' ' Dominican-Republic' ' El-Salvador'\n",
      " ' France' ' Guatemala' ' Italy' ' China' ' South' ' Japan' ' Yugoslavia'\n",
      " ' Peru' ' Outlying-US(Guam-USVI-etc)' ' Scotland' ' Trinadad&Tobago'\n",
      " ' Greece' ' Nicaragua' ' Vietnam' ' Hong' ' Ireland' ' Hungary'\n",
      " ' Holand-Netherlands']\n"
     ]
    }
   ],
   "source": [
    "numerical = []\n",
    "categorical = []\n",
    "\n",
    "for column in features_raw.columns: \n",
    "    print(column)\n",
    "    if type(data[column][0])== type('str'):\n",
    "        categorical.append(column)\n",
    "        print(data[column].unique())\n",
    "    else:\n",
    "        numerical.append(column)\n",
    "        print(data[column].min(), '-', data[column].max())"
   ]
  },
  {
   "cell_type": "markdown",
   "metadata": {},
   "source": [
    "----\n",
    "# 2. Data Preprocessing  \n"
   ]
  },
  {
   "cell_type": "markdown",
   "metadata": {},
   "source": [
    "#### 2.1 Log transforming skewed continuous features\n",
    "A dataset may sometimes contain at least one feature whose values tend to lie near a single number, but will also have a non-trivial number of vastly larger or smaller values than that single number.  Algorithms can be sensitive to such distributions of values and can underperform if the range is not properly normalized. \n",
    "\n",
    "Apply a logarithmic transformation on the highly-skewed feature distributions to reduce the range of values caused by outliers. Note, care must be taken when applying this transformation however: The logarithm of `0` is undefined, hence use `.apply(lambda x: np.log(x+1))` \n",
    "\n",
    "In our sample census dataset '`capital-gain'` and `'capital-loss'` features fit this description"
   ]
  },
  {
   "cell_type": "code",
   "execution_count": 277,
   "metadata": {},
   "outputs": [],
   "source": [
    "def vs_distribution(data, subset, title):\n",
    "    \n",
    "    \"\"\"\n",
    "    Visualization for displaying distributions of features\n",
    "    \"\"\"\n",
    "    \n",
    "    # Create figure\n",
    "    fig = pl.figure(figsize = (11,5));\n",
    "\n",
    "    # Skewed feature plotting\n",
    "    for i, feature in enumerate(subset):\n",
    "        ax = fig.add_subplot(1, 2, i+1)\n",
    "        ax.hist(data[feature], bins = 25, color = '#00A0A0')\n",
    "        ax.set_title(\"'%s' Feature Distribution\"%(feature), fontsize = 14)\n",
    "        ax.set_xlabel(\"Value\")\n",
    "        ax.set_ylabel(\"Number of Records\")\n",
    "        # ax.set_ylim((0, 2000))\n",
    "        #ax.set_yticks([0, 500, 1000, 1500, 2000])\n",
    "        #ax.set_yticklabels([0, 500, 1000, 1500, \">2000\"])\n",
    "\n",
    "        fig.suptitle(title + \" Distributions of Continuous Data Features\", \\\n",
    "            fontsize = 16, y = 1.03)\n",
    "\n",
    "    fig.tight_layout()\n",
    "    fig.show()"
   ]
  },
  {
   "cell_type": "code",
   "execution_count": 281,
   "metadata": {},
   "outputs": [
    {
     "data": {
      "image/png": "[encoded data removed]",
      "text/plain": [
       "<Figure size 792x360 with 2 Axes>"
      ]
     },
     "metadata": {
      "needs_background": "light"
     },
     "output_type": "display_data"
    },
    {
     "data": {
      "image/png": "[encoded data removed]",
      "text/plain": [
       "<Figure size 792x360 with 2 Axes>"
      ]
     },
     "metadata": {
      "needs_background": "light"
     },
     "output_type": "display_data"
    }
   ],
   "source": [
    "# Log-transform the skewed features\n",
    "skewed = ['capital-gain', 'capital-loss']\n",
    "\n",
    "features_transformed_log = features_raw.copy(deep=True)\n",
    "features_transformed_log[skewed] = features_transformed_log[skewed].apply(lambda x: np.log(x + 1)) \n",
    "\n",
    "# Visualize the RAW and new LOG TRANFORMED feature distributions\n",
    "vs_distribution(features_raw, skewed, title = \"Raw\")  \n",
    "vs_distribution(features_transformed_log, skewed, title = \"Log Transformed\") "
   ]
  },
  {
   "cell_type": "markdown",
   "metadata": {},
   "source": [
    "#### 2.2 Normalizing Numerical Features"
   ]
  },
  {
   "cell_type": "code",
   "execution_count": 283,
   "metadata": {},
   "outputs": [],
   "source": [
    "# Import sklearn.preprocessing.StandardScaler\n",
    "from sklearn.preprocessing import MinMaxScaler\n",
    "\n",
    "# Initialize a scaler, then apply it to the features\n",
    "scaler = MinMaxScaler() # default=(0,1)\n",
    "\n",
    "features_transformed_log_norm = features_transformed_log.copy(deep = True)\n",
    "features_transformed_log_norm[numerical] = scaler.fit_transform(features_transformed_log_norm[numerical])"
   ]
  },
  {
   "cell_type": "markdown",
   "metadata": {},
   "source": [
    "#### 2.3 Encoding categrorical features & label  "
   ]
  },
  {
   "cell_type": "code",
   "execution_count": 284,
   "metadata": {
    "scrolled": true
   },
   "outputs": [
    {
     "name": "stdout",
     "output_type": "stream",
     "text": [
      "103 total features after one-hot encoding.\n"
     ]
    }
   ],
   "source": [
    "# One-hot encode the data using pandas.get_dummies()\n",
    "features_final = pd.get_dummies(data = features_transformed_log_norm, columns = categorical, prefix=categorical)\n",
    "#print(features_final.head(10))\n",
    "\n",
    "# Encode the 'income_flag' data to numerical values\n",
    "label_final = label_raw.map({label_raw.unique()[0]:0,(label_raw.unique()[1]):1})\n",
    "#print(label_final.head(10))\n",
    "\n",
    "# Print the number of features after one-hot encoding\n",
    "print(\"{} total features after one-hot encoding.\".format(len(list(features_final.columns))))"
   ]
  },
  {
   "cell_type": "markdown",
   "metadata": {},
   "source": [
    "#### 2.4 Shuffle and split the data"
   ]
  },
  {
   "cell_type": "code",
   "execution_count": 285,
   "metadata": {},
   "outputs": [
    {
     "name": "stdout",
     "output_type": "stream",
     "text": [
      "Training set has 36177 samples.\n",
      "Testing set has 9045 samples.\n"
     ]
    }
   ],
   "source": [
    "#older version of the module\n",
    "#from sklearn.cross_validation import train_test_split \n",
    "\n",
    "from sklearn.model_selection import train_test_split\n",
    "\n",
    "# Split the 'features_final' and 'label_final' data into training and testing sets\n",
    "X_train, X_test, y_train, y_test = train_test_split(features_final, \n",
    "                                                    label_final, \n",
    "                                                    test_size = 0.2, \n",
    "                                                    random_state = 0)\n",
    "\n",
    "# Show the results of the split\n",
    "print(\"Training set has {} samples.\".format(X_train.shape[0]))\n",
    "print(\"Testing set has {} samples.\".format(X_test.shape[0]))"
   ]
  },
  {
   "cell_type": "markdown",
   "metadata": {},
   "source": [
    "----\n",
    "# 4. Training and Testing Functions "
   ]
  },
  {
   "cell_type": "code",
   "execution_count": 286,
   "metadata": {},
   "outputs": [],
   "source": [
    "from sklearn.metrics import accuracy_score, f1_score, fbeta_score\n",
    "\n",
    "def train_predict(learner, sample_size, X_train, y_train, X_test, y_test): \n",
    "        \n",
    "    results = {}\n",
    "    \n",
    "    # Fit the learner to the training data using slicing with 'sample_size' \n",
    "    \n",
    "    start = time() # Get start time\n",
    "    learner.fit(X=X_train[:sample_size],y= y_train[:sample_size])\n",
    "    end = time() # Get end time\n",
    "    \n",
    "    #print(\"{} sec\".format(round(end-start,3)))\n",
    "\n",
    "    # Calculate the training time\n",
    "    results['train_time'] = round(end-start,3)\n",
    "        \n",
    "    # Get the predictions on the test set (X_test) and training samples (X_train[:300]) \n",
    "    \n",
    "    start = time() # Get start time\n",
    "    predictions_test = learner.predict(X_test)\n",
    "    predictions_train = learner.predict(X_train[:sample_size])\n",
    "    end = time() # Get end time\n",
    "    \n",
    "    # Calculate the total prediction time\n",
    "    results['pred_time'] = round(end-start,3)\n",
    "            \n",
    "    # Compute accuracy on the first 300 training samples which is y_train[:300]\n",
    "    results['acc_train'] = accuracy_score(y_pred=predictions_train, y_true = y_train[:sample_size])\n",
    "\n",
    "    # Compute accuracy on test set \n",
    "    results['acc_test'] = accuracy_score(y_pred=predictions_test, y_true = y_test).round(2)\n",
    "    \n",
    "    # Compute F1-score on the the first 300 training\n",
    "    results['f_train'] = fbeta_score(beta=1, y_pred=predictions_train, y_true = y_train[:sample_size])\n",
    "        \n",
    "    # Compute F1-score on the test set \n",
    "    results['f_test'] = fbeta_score(beta=1, y_pred=predictions_test, y_true = y_test)\n",
    "       \n",
    "    print(\"{} trained on {} samples.\".format(learner.__class__.__name__, sample_size))\n",
    "     \n",
    "    return results\n"
   ]
  },
  {
   "cell_type": "markdown",
   "metadata": {},
   "source": [
    "----\n",
    "# 5. Algorithm Selection"
   ]
  },
  {
   "cell_type": "markdown",
   "metadata": {},
   "source": [
    "#### 5.1 Naive predictor -> assume all positive classification  "
   ]
  },
  {
   "cell_type": "markdown",
   "metadata": {},
   "source": [
    "**Accuracy** `[Correct Predictions / Total Guesses]`\n",
    "\n",
    "**Precision** `[True Positives / (True Positives + False Positives)]`\n",
    "\n",
    "**Recall** `[True Positives / (True Positives + False Negatives)]`\n",
    "\n",
    "\n",
    "**F-beta score** considers both precision and recall; when $\\beta = 1$, **F$_{1}$ score** precision and recall are equally weighted \n",
    "\n",
    "$$ F_{\\beta} = (1 + \\beta^2) \\cdot \\frac{precision \\cdot recall}{\\left( \\beta^2 \\cdot precision \\right) + recall} $$"
   ]
  },
  {
   "cell_type": "code",
   "execution_count": 287,
   "metadata": {},
   "outputs": [
    {
     "name": "stdout",
     "output_type": "stream",
     "text": [
      "Naive Predictor: [Accuracy score: 0.2181, F-score: 0.3580]\n"
     ]
    }
   ],
   "source": [
    "TP = np.sum(label_final) # Counting the ones as this is the naive case\n",
    "FP = label_final.count() - TP \n",
    "\n",
    "TN = 0 # No predicted negatives in the naive case\n",
    "FN = 0 # No predicted negatives in the naive case\n",
    "\n",
    "accuracy = TP/label_final.count()  \n",
    "recall = TP/(TP+FN)\n",
    "precision = TP/(TP+FP)\n",
    "\n",
    "beta = 1\n",
    "fscore = (1+beta**2)*(precision*recall/((beta**2)*precision+recall))\n",
    "\n",
    "# Print the results \n",
    "print(\"Naive Predictor: [Accuracy score: {:.4f}, F-score: {:.4f}]\".format(accuracy, fscore))"
   ]
  },
  {
   "cell_type": "markdown",
   "metadata": {},
   "source": [
    "#### 5.2 Initial evaluation"
   ]
  },
  {
   "cell_type": "code",
   "execution_count": 291,
   "metadata": {},
   "outputs": [
    {
     "name": "stdout",
     "output_type": "stream",
     "text": [
      "LogisticRegression trained on 7235 samples.\n",
      "DecisionTreeClassifier trained on 7235 samples.\n",
      "KNeighborsClassifier trained on 7235 samples.\n",
      "GradientBoostingClassifier trained on 7235 samples.\n",
      "AdaBoostClassifier trained on 7235 samples.\n",
      "BaggingClassifier trained on 7235 samples.\n",
      "RandomForestClassifier trained on 7235 samples.\n",
      "SVC trained on 7235 samples.\n",
      "LinearSVC trained on 7235 samples.\n",
      "BernoulliNB trained on 7235 samples.\n",
      "GaussianNB trained on 7235 samples.\n",
      "MultinomialNB trained on 7235 samples.\n"
     ]
    }
   ],
   "source": [
    "# Initialize supervised learning classifier algorithms\n",
    "learners= []\n",
    "\n",
    "from sklearn.linear_model import LogisticRegression\n",
    "learners.append(LogisticRegression())\n",
    "\n",
    "from sklearn.tree import DecisionTreeClassifier\n",
    "learners.append(DecisionTreeClassifier())\n",
    "\n",
    "from sklearn.neighbors import KNeighborsClassifier\n",
    "learners.append(KNeighborsClassifier())\n",
    "\n",
    "from sklearn.ensemble import AdaBoostClassifier, BaggingClassifier, GradientBoostingClassifier, RandomForestClassifier \n",
    "learners.append(GradientBoostingClassifier())\n",
    "learners.append(AdaBoostClassifier())\n",
    "learners.append(BaggingClassifier())\n",
    "learners.append(RandomForestClassifier())\n",
    "\n",
    "from sklearn.svm import LinearSVC, SVC\n",
    "learners.append(SVC())\n",
    "learners.append(LinearSVC())\n",
    "\n",
    "from sklearn.naive_bayes import GaussianNB, BernoulliNB, MultinomialNB\n",
    "learners.append(BernoulliNB())\n",
    "learners.append(GaussianNB())\n",
    "learners.append(MultinomialNB())\n",
    "\n",
    "# Train and test each of the learner algorithms and collect results in a dictionary\n",
    "results = {}\n",
    "for clf in learners:\n",
    "    clf_name = clf.__class__.__name__\n",
    "    results[clf_name] = {}\n",
    "    results[clf_name] = train_predict(clf, int(len(y_train)/5), X_train, y_train, X_test, y_test)"
   ]
  },
  {
   "cell_type": "markdown",
   "metadata": {},
   "source": [
    "  \n",
    "\n",
    "#### 5.3 Visualization of results for various supervised learners\n"
   ]
  },
  {
   "cell_type": "code",
   "execution_count": 294,
   "metadata": {},
   "outputs": [],
   "source": [
    "def vs_evaluate_models(results, accuracy, f1):\n",
    "    '''\n",
    "    Inputs:\n",
    "    - learners: a list of supervised learners\n",
    "    - results: a list of dictionaries of the statistic results from 'train_predict()'\n",
    "    - accuracy: The score for the naive predictor\n",
    "    - f1: The score for the naive predictor\n",
    "    '''\n",
    "    \n",
    "    # Create figure\n",
    "    fig, ax = pl.subplots(2, 3, figsize = (16,12))\n",
    "\n",
    "    # Constants\n",
    "    bar_width = 1\n",
    "    font1 = 12\n",
    "    font2 = 18\n",
    "    font3 = 24\n",
    "    \n",
    "    learners =[]\n",
    "    # Super loop to plot four panels of data\n",
    "    for k, learner in enumerate(results.keys()):\n",
    "        for j, metric in enumerate(['train_time', 'acc_train', 'f_train', 'pred_time', 'acc_test', 'f_test']):\n",
    "            \n",
    "            #for i in np.arange(3):          \n",
    "            # Create plot\n",
    "            ax[j//3, j%3].bar(k*bar_width, results[learner][metric], width = bar_width)\n",
    "            ax[j//3, j%3].set_xticks(list(range(0,12)))\n",
    "\n",
    "            # add labels and rotate them 90 degrees\n",
    "            ax[j//3, j%3].set_xticklabels(list(results.keys())[:k+1],fontsize = font1) \n",
    "            for tick in ax[j//3, j%3].get_xticklabels():\n",
    "                tick.set_rotation(90)\n",
    "            \n",
    "            # add x axis label\n",
    "            ax[j//3, j%3].set_xlabel(\"Algorithm\", fontsize = font1)  \n",
    "    \n",
    "    # Add unique y-labels\n",
    "    ax[0, 0].set_ylabel(\"Time (seconds)\", fontsize = font1)\n",
    "    ax[0, 1].set_ylabel(\"Accuracy Score\", fontsize = font1)\n",
    "    ax[0, 2].set_ylabel(\"F-score\", fontsize = font1)\n",
    "    ax[1, 0].set_ylabel(\"Time (seconds)\", fontsize = font1)\n",
    "    ax[1, 1].set_ylabel(\"Accuracy Score\", fontsize = font1)\n",
    "    ax[1, 2].set_ylabel(\"F-score\", fontsize = font1)\n",
    "    \n",
    "    # Add titles\n",
    "    ax[0, 0].set_title(\"Model Training\", fontsize = font2)\n",
    "    ax[0, 1].set_title(\"Accuracy Score on Training Subset\", fontsize = font2)\n",
    "    ax[0, 2].set_title(\"F-score on Training Subset\", fontsize = font2)\n",
    "    ax[1, 0].set_title(\"Model Predicting\", fontsize = font2)\n",
    "    ax[1, 1].set_title(\"Accuracy Score on Testing Set\", fontsize = font2)\n",
    "    ax[1, 2].set_title(\"F-score on Testing Set\", fontsize = font2)\n",
    "    \n",
    "    # Add horizontal lines for naive predictors\n",
    "    ax[0, 1].axhline(y = accuracy, xmin = -0.1, xmax = 3.0, linewidth = 1, color = 'k', linestyle = 'dashed')\n",
    "    ax[1, 1].axhline(y = accuracy, xmin = -0.1, xmax = 3.0, linewidth = 1, color = 'k', linestyle = 'dashed')\n",
    "    ax[0, 2].axhline(y = f1, xmin = -0.1, xmax = 3.0, linewidth = 1, color = 'k', linestyle = 'dashed')\n",
    "    ax[1, 2].axhline(y = f1, xmin = -0.1, xmax = 3.0, linewidth = 1, color = 'k', linestyle = 'dashed')\n",
    "    \n",
    "    # Set y-limits for score panels\n",
    "    ax[0, 0].set_ylim((0, 5))\n",
    "    ax[1, 0].set_ylim((0, 5))\n",
    "    \n",
    "    ax[0, 1].set_ylim((0, 1))\n",
    "    ax[0, 2].set_ylim((0, 1))\n",
    "    ax[1, 1].set_ylim((0, 1))\n",
    "    ax[1, 2].set_ylim((0, 1))\n",
    "\n",
    "    # Create patches for the legend   \n",
    "    #patches = []\n",
    "    #for i, learner in enumerate(results.keys()):\n",
    "    #    patches.append(mpatches.Patch(label = learner))    \n",
    "    #pl.legend(handles = patches, bbox_to_anchor = (-.0, 2.53), \\\n",
    "    #           loc = 'upper center', borderaxespad = 0., ncol = 3, fontsize = 'x-large')\n",
    "    \n",
    "    # Aesthetics\n",
    "    pl.suptitle(\"Supervised Learning Algorithm Selection\", fontsize = font3, y = 1.05)\n",
    "    pl.tight_layout()\n",
    "    pl.show()"
   ]
  },
  {
   "cell_type": "code",
   "execution_count": 295,
   "metadata": {},
   "outputs": [
    {
     "data": {
      "image/png": "[encoded data removed]",
      "text/plain": [
       "<Figure size 1152x864 with 6 Axes>"
      ]
     },
     "metadata": {
      "needs_background": "light"
     },
     "output_type": "display_data"
    }
   ],
   "source": [
    "# Run metrics visualization for the supervised learning models chosen\n",
    "vs_evaluate_models(results, accuracy, fscore)"
   ]
  },
  {
   "cell_type": "markdown",
   "metadata": {},
   "source": [
    "----\n",
    "# 6. GridSearch Model Optimization  "
   ]
  },
  {
   "cell_type": "markdown",
   "metadata": {},
   "source": [
    "#### 6.1 Fine tune the model parameters using `GridSearchCV` and a `scorer` function \n",
    "\n",
    "**Note:** Depending on the algorithm chosen and the parameter list, the following implementation may take a long time to run."
   ]
  },
  {
   "cell_type": "code",
   "execution_count": 313,
   "metadata": {},
   "outputs": [
    {
     "name": "stdout",
     "output_type": "stream",
     "text": [
      "GradientBoostingClassifier(criterion='friedman_mse', init=None,\n",
      "              learning_rate=0.2, loss='deviance', max_depth=5,\n",
      "              max_features=None, max_leaf_nodes=None,\n",
      "              min_impurity_decrease=0.0, min_impurity_split=None,\n",
      "              min_samples_leaf=1, min_samples_split=2,\n",
      "              min_weight_fraction_leaf=0.0, n_estimators=100,\n",
      "              n_iter_no_change=None, presort='auto', random_state=None,\n",
      "              subsample=1.0, tol=0.0001, validation_fraction=0.1,\n",
      "              verbose=0, warm_start=False)\n"
     ]
    }
   ],
   "source": [
    "# Import libraries\n",
    "from sklearn.ensemble import GradientBoostingClassifier \n",
    "from sklearn.model_selection import GridSearchCV\n",
    "from sklearn.metrics import make_scorer, f1_score\n",
    "\n",
    "# Initialize the choosen classifier\n",
    "clf = GradientBoostingClassifier()\n",
    "\n",
    "# Create the parameters list you wish to tune, using a dictionary if needed.\n",
    "parameters = {'n_estimators': [50, 100, 150], 'learning_rate': [0.1,0.2,0.3], 'max_depth':[5]}\n",
    "\n",
    "# Make an fbeta_score scoring object using make_scorer()\n",
    "scorer = make_scorer(score_func = f1_score)\n",
    "\n",
    "# Perform grid search on the classifier using 'scorer' as the scoring method using GridSearchCV()\n",
    "grid_obj = GridSearchCV(clf, param_grid=parameters, scoring=scorer)\n",
    "\n",
    "# Fit the grid search object to the training data and find the optimal parameters using fit()\n",
    "grid_fit = grid_obj.fit(X_train, y_train)\n",
    "\n",
    "# Get the estimator\n",
    "best_clf = grid_fit.best_estimator_\n",
    "print(best_clf)"
   ]
  },
  {
   "cell_type": "markdown",
   "metadata": {},
   "source": [
    "#### 6.2 Compare the default (unoptimized) and optimized model test results"
   ]
  },
  {
   "cell_type": "code",
   "execution_count": 314,
   "metadata": {},
   "outputs": [
    {
     "name": "stdout",
     "output_type": "stream",
     "text": [
      "\n",
      "\n",
      "Unoptimized model:\n",
      "Accuracy score on testing data: 85.96%\n",
      "F-score on testing data: 62.73%\n",
      "\n",
      "Optimized model:\n",
      "Final accuracy score on the testing data: 86.26%\n",
      "Final F-score on the testing data: 65.27%\n"
     ]
    }
   ],
   "source": [
    "default_predictions = (clf.fit(X_train, y_train)).predict(X_test)\n",
    "best_predictions = best_clf.predict(X_test)\n",
    "\n",
    "# Report the before-and-afterscores\n",
    "# Shows as percent \n",
    "def percentage(val, digits=2):\n",
    "    val *= 10 ** (digits + 2)\n",
    "    return '{1:.{0}f}%'.format(digits, np.round(val) / 10 ** digits)\n",
    "\n",
    "print(\"\\n\")\n",
    "print(\"Unoptimized model:\")\n",
    "print(\"Accuracy score on testing data: {:s}\".format(percentage(accuracy_score(y_test, default_predictions))))\n",
    "print(\"F-score on testing data: {:s}\".format(percentage(fbeta_score(y_test, default_predictions, beta = 1))))\n",
    "print(\"\\nOptimized model:\")\n",
    "print(\"Final accuracy score on the testing data: {:s}\".format(percentage(accuracy_score(y_test, best_predictions))))\n",
    "print(\"Final F-score on the testing data: {:s}\".format(percentage(fbeta_score(y_test, best_predictions, beta = 1))))"
   ]
  },
  {
   "cell_type": "markdown",
   "metadata": {},
   "source": [
    "----\n",
    "# 7. Final Model Evaluation"
   ]
  },
  {
   "cell_type": "code",
   "execution_count": null,
   "metadata": {},
   "outputs": [],
   "source": []
  },
  {
   "cell_type": "markdown",
   "metadata": {},
   "source": [
    "----\n",
    "# 8. Feature Importance\n",
    "\n",
    "An important task when performing supervised learning on a dataset like the census data we study here is determining which features provide the most predictive power. By focusing on the relationship between only a few crucial features and the target label we simplify our understanding of the phenomenon, which is most always a useful thing to do. \n",
    "\n",
    "**Note:** Must choose a scikit-learn classifier (e.g., adaboost, random forests, descision trees) that has a `feature_importance_` attribute function that ranks the importance of features\n",
    "\n",
    "#### 8.1 Compute feature importances for the optimized if available, otherwise train and compute using an appropriete learner "
   ]
  },
  {
   "cell_type": "code",
   "execution_count": 315,
   "metadata": {},
   "outputs": [],
   "source": [
    "# Extract the feature importances from the previously optimized learner using .feature_importances_ if available \n",
    "importances_best_clf = best_clf.feature_importances_"
   ]
  },
  {
   "cell_type": "markdown",
   "metadata": {},
   "source": [
    "**Alternatively:**"
   ]
  },
  {
   "cell_type": "code",
   "execution_count": 316,
   "metadata": {},
   "outputs": [],
   "source": [
    "# Import a supervised learning model that has 'feature_importances_'\n",
    "from sklearn.tree import DecisionTreeClassifier\n",
    "\n",
    "# Train the supervised model on the training set using .fit(X_train, y_train)\n",
    "model = DecisionTreeClassifier().fit(X_train, y_train)\n",
    "\n",
    "# Extract the feature importances using .feature_importances_ \n",
    "importances = model.feature_importances_"
   ]
  },
  {
   "cell_type": "markdown",
   "metadata": {},
   "source": [
    "#### 8.2 Visualize feature importances"
   ]
  },
  {
   "cell_type": "code",
   "execution_count": 318,
   "metadata": {},
   "outputs": [],
   "source": [
    "def vs_feature_importance(importances, X_train, y_train):   \n",
    "    \n",
    "    # select 10 most features and their weights \n",
    "    indices = np.argsort(importances)[::-1]\n",
    "    columns = X_train.columns.values[indices[:10]]\n",
    "    values = importances[indices][:10]\n",
    "\n",
    "    # create the figure\n",
    "    fig = pl.figure(figsize = (10,10))\n",
    "    pl.title(\"Normalized Weights for 10 Most Predictive Features\", fontsize = 12, weight='bold')\n",
    "    pl.bar(np.arange(10), values, width = 0.6, align=\"center\", color = 'blue', \\\n",
    "          label = \"Feature Weight\")\n",
    "    pl.bar(np.arange(10) - 0.3, np.cumsum(values), width = 0.2, align = \"center\", color = 'green', \\\n",
    "          label = \"Cumulative Feature Weight\")\n",
    "    \n",
    "    # add x feature labels rotated 90 degrees\n",
    "    pl.xticks(np.arange(10), columns,  rotation=90, fontsize = 12)\n",
    "    pl.yticks(fontsize = 12)\n",
    "    \n",
    "    pl.ylabel(\"Weights\", fontsize = 12, weight='bold')\n",
    "    pl.xlabel(\"Features\", fontsize = 12, weight='bold')\n",
    "    \n",
    "    pl.legend(loc = 'upper left', fontsize = 12)\n",
    "    pl.tight_layout()\n",
    "    pl.show()  "
   ]
  },
  {
   "cell_type": "code",
   "execution_count": 319,
   "metadata": {},
   "outputs": [
    {
     "data": {
      "image/png": "[encoded data removed]",
      "text/plain": [
       "<Figure size 720x720 with 1 Axes>"
      ]
     },
     "metadata": {
      "needs_background": "light"
     },
     "output_type": "display_data"
    }
   ],
   "source": [
    "vs_feature_importance(importances_best_clf, X_train, y_train)"
   ]
  },
  {
   "cell_type": "markdown",
   "metadata": {},
   "source": [
    "----\n",
    "# 9. Dimensionality reduction  "
   ]
  },
  {
   "cell_type": "markdown",
   "metadata": {},
   "source": [
    "#### 9.1 Test model performance when trained on reduced set of top (10) features   "
   ]
  },
  {
   "cell_type": "code",
   "execution_count": 320,
   "metadata": {},
   "outputs": [
    {
     "name": "stdout",
     "output_type": "stream",
     "text": [
      "\n",
      "\n",
      "Model trainined on the FULL set of features:\n",
      "Accuracy on testing data: 86.26%\n",
      "F-score on testing data: 65.27%\n",
      "\n",
      "Model trained on the REDUCED set of features:\n",
      "Accuracy on testing data: 86.03%\n",
      "F-score on testing data: 63.80%\n"
     ]
    }
   ],
   "source": [
    "# Import the function for cloning a model\n",
    "from sklearn.base import clone\n",
    "\n",
    "# Reduce the feature space to the top 10 only \n",
    "X_train_reduced = X_train[X_train.columns.values[(np.argsort(importances)[::-1])[:10]]]\n",
    "X_test_reduced = X_test[X_test.columns.values[(np.argsort(importances)[::-1])[:10]]]\n",
    "\n",
    "# Train on the \"best\" GridSearchCV optimized model parameters determined above\n",
    "clf = (clone(best_clf)).fit(X_train_reduced, y_train)\n",
    "\n",
    "# Make new predictions with the reduced set of training features \n",
    "reduced_predictions = clf.predict(X_test_reduced)\n",
    "\n",
    "# Shows as percent \n",
    "def percentage(val, digits=2):\n",
    "    val *= 10 ** (digits + 2)\n",
    "    return '{1:.{0}f}%'.format(digits, np.round(val) / 10 ** digits)\n",
    "\n",
    "# Report scores from the final model using both versions of data\n",
    "print(\"\\n\")\n",
    "print(\"Model trainined on the FULL set of features:\")\n",
    "print(\"Accuracy on testing data: {:s}\".format(percentage(accuracy_score(y_test, best_predictions))))\n",
    "print(\"F-score on testing data: {:s}\".format(percentage(fbeta_score(y_test, best_predictions, beta = 1))))\n",
    "print(\"\\nModel trained on the REDUCED set of features:\")\n",
    "print(\"Accuracy on testing data: {:s}\".format(percentage(accuracy_score(y_test, reduced_predictions))))\n",
    "print(\"F-score on testing data: {:s}\".format(percentage(fbeta_score(y_test, reduced_predictions, beta = 1))))"
   ]
  }
 ],
 "metadata": {
  "kernelspec": {
   "display_name": "Python 3",
   "language": "python",
   "name": "python3"
  },
  "language_info": {
   "codemirror_mode": {
    "name": "ipython",
    "version": 3
   },
   "file_extension": ".py",
   "mimetype": "text/x-python",
   "name": "python",
   "nbconvert_exporter": "python",
   "pygments_lexer": "ipython3",
   "version": "3.7.1"
  }
 },
 "nbformat": 4,
 "nbformat_minor": 2
}
